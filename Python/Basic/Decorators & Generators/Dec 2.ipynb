{
 "cells": [
  {
   "cell_type": "code",
   "execution_count": 2,
   "metadata": {},
   "outputs": [],
   "source": [
    "def new_highly_decorated(func):\n",
    "    def wrap():\n",
    "        print(\"Hii it is before\")\n",
    "        \n",
    "        func()\n",
    "        \n",
    "        print(\"Hii it is after\")\n",
    "    return wrap"
   ]
  },
  {
   "cell_type": "code",
   "execution_count": 33,
   "metadata": {},
   "outputs": [],
   "source": [
    "@new_highly_decorated\n",
    "def Hello():\n",
    "    print(\"Hii Manthan. I am in Hello !\")"
   ]
  },
  {
   "cell_type": "code",
   "execution_count": null,
   "metadata": {},
   "outputs": [],
   "source": []
  },
  {
   "cell_type": "code",
   "execution_count": 5,
   "metadata": {},
   "outputs": [
    {
     "name": "stdout",
     "output_type": "stream",
     "text": [
      "Hii it is before\n",
      "Hii Manthan. I am in Hello !\n",
      "Hii it is after\n"
     ]
    }
   ],
   "source": [
    "Hello()"
   ]
  }
 ],
 "metadata": {
  "kernelspec": {
   "display_name": "Python 3",
   "language": "python",
   "name": "python3"
  },
  "language_info": {
   "codemirror_mode": {
    "name": "ipython",
    "version": 3
   },
   "file_extension": ".py",
   "mimetype": "text/x-python",
   "name": "python",
   "nbconvert_exporter": "python",
   "pygments_lexer": "ipython3",
   "version": "3.7.0"
  }
 },
 "nbformat": 4,
 "nbformat_minor": 2
}
