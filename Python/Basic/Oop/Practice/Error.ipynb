{
 "cells": [
  {
   "cell_type": "code",
   "execution_count": 3,
   "metadata": {},
   "outputs": [],
   "source": [
    "def ask():\n",
    "    \n",
    "    while True:\n",
    "        try:\n",
    "            result = int(input(\"Give me number: \"))\n",
    "            \n",
    "        except:\n",
    "            print(\"Whoops Try again\")\n",
    "            continue\n",
    "        \n",
    "        else:\n",
    "            print(\"Thank You\")\n",
    "            break\n",
    "        \n",
    "        finally:\n",
    "            print(\"I will run koi b sanjog ma\")"
   ]
  },
  {
   "cell_type": "code",
   "execution_count": 4,
   "metadata": {},
   "outputs": [
    {
     "name": "stdout",
     "output_type": "stream",
     "text": [
      "Give me number: m\n",
      "Whoops Try again\n",
      "I will run koi b sanjog ma\n",
      "Give me number: 4\n",
      "Thank You\n",
      "I will run koi b sanjog ma\n"
     ]
    }
   ],
   "source": [
    "ask()"
   ]
  }
 ],
 "metadata": {
  "kernelspec": {
   "display_name": "Python 3",
   "language": "python",
   "name": "python3"
  },
  "language_info": {
   "codemirror_mode": {
    "name": "ipython",
    "version": 3
   },
   "file_extension": ".py",
   "mimetype": "text/x-python",
   "name": "python",
   "nbconvert_exporter": "python",
   "pygments_lexer": "ipython3",
   "version": "3.7.0"
  }
 },
 "nbformat": 4,
 "nbformat_minor": 2
}
