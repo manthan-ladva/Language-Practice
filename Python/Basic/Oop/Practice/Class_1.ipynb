{
 "cells": [
  {
   "cell_type": "markdown",
   "metadata": {},
   "source": [
    "#-----------Lecture 1-----------\n",
    "\n",
    "class Dog():\n",
    "    def __init__(self, breed, name, sports):\n",
    "        self.bru = breed\n",
    "        self.name = name\n",
    "        self.spo = sports\n",
    "\n",
    "my_set  = Dog(breed = \"Pup\",name = \"Tommy\", sports = False)\n",
    "\n",
    "my_set.bru\n",
    "\n",
    "my_set.spo\n",
    "\n",
    "my_set.name"
   ]
  },
  {
   "cell_type": "code",
   "execution_count": 15,
   "metadata": {},
   "outputs": [
    {
     "name": "stdout",
     "output_type": "stream",
     "text": [
      "62.800000000000004\n",
      "314.0\n"
     ]
    }
   ],
   "source": [
    "#-----------Lecture 2-----------\n",
    "\n",
    "class Circle():\n",
    "    pie = 3.14\n",
    "    def __init__(self, radius):\n",
    "        self.radius = radius\n",
    "        circum = self.pie * self.radius * 2\n",
    "        print(circum)\n",
    "    def area(self):\n",
    "        a = self.pie * self.radius * self.radius\n",
    "        print(a)\n",
    "\n",
    "my_circle = Circle(10)\n",
    "my_circle.area()"
   ]
  },
  {
   "cell_type": "code",
   "execution_count": null,
   "metadata": {},
   "outputs": [],
   "source": [
    "#-----------Lecture 3-----------\n",
    "\n"
   ]
  }
 ],
 "metadata": {
  "kernelspec": {
   "display_name": "Python 3",
   "language": "python",
   "name": "python3"
  },
  "language_info": {
   "codemirror_mode": {
    "name": "ipython",
    "version": 3
   },
   "file_extension": ".py",
   "mimetype": "text/x-python",
   "name": "python",
   "nbconvert_exporter": "python",
   "pygments_lexer": "ipython3",
   "version": "3.7.0"
  }
 },
 "nbformat": 4,
 "nbformat_minor": 2
}
