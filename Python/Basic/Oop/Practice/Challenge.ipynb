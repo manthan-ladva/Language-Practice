{
 "cells": [
  {
   "cell_type": "code",
   "execution_count": 80,
   "metadata": {},
   "outputs": [],
   "source": [
    "class Bank:\n",
    "    def __init__(self, name, balance):\n",
    "        self.name = name\n",
    "        self.balance = balance\n",
    "    \n",
    "    def deposit(self, ammount):\n",
    "        self.balance = self.balance + ammount\n",
    "        print(\"Deposit Accepted\")\n",
    "    \n",
    "    def withdraw(self, ammount):\n",
    "        if self.balance >= ammount:\n",
    "            self.balance = self.balance - ammount\n",
    "            print(\"Withdraw Accepted\")\n",
    "        else:\n",
    "            print(\"Sorry yoou don't have enough balance\")\n",
    "            \n",
    "    def __str__(self):\n",
    "        return f\"Account Owner = {self.name} \\nAccount Balance = {self.balance}\""
   ]
  },
  {
   "cell_type": "code",
   "execution_count": 91,
   "metadata": {},
   "outputs": [
    {
     "name": "stdout",
     "output_type": "stream",
     "text": [
      "Deposit Accepted\n",
      "Withdraw Accepted\n",
      "Account Owner = Manthan \n",
      "Account Balance = 999\n"
     ]
    }
   ],
   "source": [
    "acc1 = Bank('Manthan', 500)\n",
    "acc1.deposit(500)\n",
    "acc1.withdraw(1)\n",
    "print(acc1)"
   ]
  }
 ],
 "metadata": {
  "kernelspec": {
   "display_name": "Python 3",
   "language": "python",
   "name": "python3"
  },
  "language_info": {
   "codemirror_mode": {
    "name": "ipython",
    "version": 3
   },
   "file_extension": ".py",
   "mimetype": "text/x-python",
   "name": "python",
   "nbconvert_exporter": "python",
   "pygments_lexer": "ipython3",
   "version": "3.7.0"
  }
 },
 "nbformat": 4,
 "nbformat_minor": 2
}
