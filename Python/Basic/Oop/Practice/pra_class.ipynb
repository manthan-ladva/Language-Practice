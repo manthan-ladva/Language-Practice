{
 "cells": [
  {
   "cell_type": "code",
   "execution_count": 16,
   "metadata": {},
   "outputs": [],
   "source": [
    "class Line():\n",
    "    def __init__(self, coor1, coor2):\n",
    "        self.coor1 = coor1\n",
    "        self.coor2 = coor2\n",
    "    \n",
    "    def distance(self):\n",
    "        d = ( ((self.coor2[0] - self.coor1[0]) ** 2) + ((self.coor2[1] - self.coor1[1]) ** 2 ) ) ** (1/2)\n",
    "        return d\n",
    "    \n",
    "    def slope(self):\n",
    "        s = (self.coor2[1] - self.coor1[1]) / (self.coor2[0] - self.coor1[0])\n",
    "        return s\n",
    "\n",
    "coordinate1 = (3, 2)\n",
    "coordinate2 = (8, 10)\n",
    "\n",
    "li = Line(coordinate1, coordinate2)\n",
    "\n",
    "li.distance()\n",
    "\n",
    "li.slope()"
   ]
  },
  {
   "cell_type": "code",
   "execution_count": 29,
   "metadata": {},
   "outputs": [],
   "source": [
    "class Cylinder:\n",
    "    pie = 3.14\n",
    "    def __init__(self, height, radius):\n",
    "        self.height = height\n",
    "        self.radius  = radius\n",
    "    \n",
    "    def volume(self):\n",
    "        v = self.pie * self.radius * self.radius * self.height\n",
    "        return v\n",
    "    \n",
    "    def sa(self):\n",
    "        s = (2 * self.pie * self.radius) * (self.radius + self.height)\n",
    "        return s\n",
    "\n",
    "c = Cylinder(2, 3)\n",
    "\n",
    "c.volume()\n",
    "\n",
    "c.sa()"
   ]
  }
 ],
 "metadata": {
  "kernelspec": {
   "display_name": "Python 3",
   "language": "python",
   "name": "python3"
  },
  "language_info": {
   "codemirror_mode": {
    "name": "ipython",
    "version": 3
   },
   "file_extension": ".py",
   "mimetype": "text/x-python",
   "name": "python",
   "nbconvert_exporter": "python",
   "pygments_lexer": "ipython3",
   "version": "3.7.0"
  }
 },
 "nbformat": 4,
 "nbformat_minor": 2
}
