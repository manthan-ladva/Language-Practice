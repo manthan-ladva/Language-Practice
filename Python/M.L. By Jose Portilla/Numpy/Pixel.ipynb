{
 "cells": [
  {
   "cell_type": "code",
   "execution_count": 1,
   "metadata": {},
   "outputs": [],
   "source": [
    "import pandas as pd\n",
    "import numpy as np"
   ]
  },
  {
   "cell_type": "code",
   "execution_count": 2,
   "metadata": {},
   "outputs": [],
   "source": [
    "import cv2"
   ]
  },
  {
   "cell_type": "code",
   "execution_count": 6,
   "metadata": {},
   "outputs": [],
   "source": [
    "pix = cv2.imread('B612_20170827_165314.jpg')"
   ]
  },
  {
   "cell_type": "code",
   "execution_count": 7,
   "metadata": {},
   "outputs": [
    {
     "data": {
      "text/plain": [
       "array([[[ 97, 129, 135],\n",
       "        [ 94, 126, 132],\n",
       "        [ 96, 127, 136],\n",
       "        ...,\n",
       "        [ 85,  97,  97],\n",
       "        [101, 113, 113],\n",
       "        [ 99, 111, 111]],\n",
       "\n",
       "       [[ 95, 127, 133],\n",
       "        [ 95, 127, 133],\n",
       "        [ 95, 126, 135],\n",
       "        ...,\n",
       "        [ 92, 104, 104],\n",
       "        [102, 114, 114],\n",
       "        [105, 117, 117]],\n",
       "\n",
       "       [[ 92, 126, 132],\n",
       "        [ 92, 124, 130],\n",
       "        [ 94, 125, 134],\n",
       "        ...,\n",
       "        [ 93, 105, 105],\n",
       "        [101, 114, 116],\n",
       "        [106, 119, 121]],\n",
       "\n",
       "       ...,\n",
       "\n",
       "       [[ 35,  19,  12],\n",
       "        [ 34,  18,  11],\n",
       "        [ 34,  19,  10],\n",
       "        ...,\n",
       "        [ 49,  29,  12],\n",
       "        [ 48,  27,  12],\n",
       "        [ 48,  27,  12]],\n",
       "\n",
       "       [[ 36,  21,  12],\n",
       "        [ 36,  21,  12],\n",
       "        [ 35,  23,  13],\n",
       "        ...,\n",
       "        [ 49,  28,  13],\n",
       "        [ 48,  27,  12],\n",
       "        [ 47,  26,  11]],\n",
       "\n",
       "       [[ 38,  23,  14],\n",
       "        [ 38,  23,  14],\n",
       "        [ 36,  24,  14],\n",
       "        ...,\n",
       "        [ 47,  26,  11],\n",
       "        [ 47,  26,  11],\n",
       "        [ 47,  26,  11]]], dtype=uint8)"
      ]
     },
     "execution_count": 7,
     "metadata": {},
     "output_type": "execute_result"
    }
   ],
   "source": [
    "pix"
   ]
  },
  {
   "cell_type": "code",
   "execution_count": 8,
   "metadata": {},
   "outputs": [
    {
     "data": {
      "text/plain": [
       "array([[[ 97, 129, 135],\n",
       "        [ 94, 126, 132],\n",
       "        [ 96, 127, 136],\n",
       "        ...,\n",
       "        [ 85,  97,  97],\n",
       "        [101, 113, 113],\n",
       "        [ 99, 111, 111]],\n",
       "\n",
       "       [[ 95, 127, 133],\n",
       "        [ 95, 127, 133],\n",
       "        [ 95, 126, 135],\n",
       "        ...,\n",
       "        [ 92, 104, 104],\n",
       "        [102, 114, 114],\n",
       "        [105, 117, 117]],\n",
       "\n",
       "       [[ 92, 126, 132],\n",
       "        [ 92, 124, 130],\n",
       "        [ 94, 125, 134],\n",
       "        ...,\n",
       "        [ 93, 105, 105],\n",
       "        [101, 114, 116],\n",
       "        [106, 119, 121]],\n",
       "\n",
       "       ...,\n",
       "\n",
       "       [[ 35,  19,  12],\n",
       "        [ 34,  18,  11],\n",
       "        [ 34,  19,  10],\n",
       "        ...,\n",
       "        [ 49,  29,  12],\n",
       "        [ 48,  27,  12],\n",
       "        [ 48,  27,  12]],\n",
       "\n",
       "       [[ 36,  21,  12],\n",
       "        [ 36,  21,  12],\n",
       "        [ 35,  23,  13],\n",
       "        ...,\n",
       "        [ 49,  28,  13],\n",
       "        [ 48,  27,  12],\n",
       "        [ 47,  26,  11]],\n",
       "\n",
       "       [[ 38,  23,  14],\n",
       "        [ 38,  23,  14],\n",
       "        [ 36,  24,  14],\n",
       "        ...,\n",
       "        [ 47,  26,  11],\n",
       "        [ 47,  26,  11],\n",
       "        [ 47,  26,  11]]], dtype=uint8)"
      ]
     },
     "execution_count": 8,
     "metadata": {},
     "output_type": "execute_result"
    }
   ],
   "source": [
    "np.asarray(pix)"
   ]
  },
  {
   "cell_type": "code",
   "execution_count": null,
   "metadata": {},
   "outputs": [],
   "source": []
  }
 ],
 "metadata": {
  "kernelspec": {
   "display_name": "Python 3",
   "language": "python",
   "name": "python3"
  },
  "language_info": {
   "codemirror_mode": {
    "name": "ipython",
    "version": 3
   },
   "file_extension": ".py",
   "mimetype": "text/x-python",
   "name": "python",
   "nbconvert_exporter": "python",
   "pygments_lexer": "ipython3",
   "version": "3.7.0"
  }
 },
 "nbformat": 4,
 "nbformat_minor": 2
}
