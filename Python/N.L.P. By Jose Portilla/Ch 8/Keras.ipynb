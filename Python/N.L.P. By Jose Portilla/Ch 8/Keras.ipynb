{
 "cells": [
  {
   "cell_type": "code",
   "execution_count": 1,
   "metadata": {},
   "outputs": [],
   "source": [
    "import numpy as np\n",
    "from sklearn.datasets import load_iris"
   ]
  },
  {
   "cell_type": "code",
   "execution_count": 2,
   "metadata": {},
   "outputs": [],
   "source": [
    "iris = load_iris()"
   ]
  },
  {
   "cell_type": "code",
   "execution_count": 3,
   "metadata": {},
   "outputs": [
    {
     "data": {
      "text/plain": [
       "sklearn.utils.Bunch"
      ]
     },
     "execution_count": 3,
     "metadata": {},
     "output_type": "execute_result"
    }
   ],
   "source": [
    "type(iris)"
   ]
  },
  {
   "cell_type": "code",
   "execution_count": 5,
   "metadata": {
    "collapsed": true
   },
   "outputs": [
    {
     "name": "stdout",
     "output_type": "stream",
     "text": [
      ".. _iris_dataset:\n",
      "\n",
      "Iris plants dataset\n",
      "--------------------\n",
      "\n",
      "**Data Set Characteristics:**\n",
      "\n",
      "    :Number of Instances: 150 (50 in each of three classes)\n",
      "    :Number of Attributes: 4 numeric, predictive attributes and the class\n",
      "    :Attribute Information:\n",
      "        - sepal length in cm\n",
      "        - sepal width in cm\n",
      "        - petal length in cm\n",
      "        - petal width in cm\n",
      "        - class:\n",
      "                - Iris-Setosa\n",
      "                - Iris-Versicolour\n",
      "                - Iris-Virginica\n",
      "                \n",
      "    :Summary Statistics:\n",
      "\n",
      "    ============== ==== ==== ======= ===== ====================\n",
      "                    Min  Max   Mean    SD   Class Correlation\n",
      "    ============== ==== ==== ======= ===== ====================\n",
      "    sepal length:   4.3  7.9   5.84   0.83    0.7826\n",
      "    sepal width:    2.0  4.4   3.05   0.43   -0.4194\n",
      "    petal length:   1.0  6.9   3.76   1.76    0.9490  (high!)\n",
      "    petal width:    0.1  2.5   1.20   0.76    0.9565  (high!)\n",
      "    ============== ==== ==== ======= ===== ====================\n",
      "\n",
      "    :Missing Attribute Values: None\n",
      "    :Class Distribution: 33.3% for each of 3 classes.\n",
      "    :Creator: R.A. Fisher\n",
      "    :Donor: Michael Marshall (MARSHALL%PLU@io.arc.nasa.gov)\n",
      "    :Date: July, 1988\n",
      "\n",
      "The famous Iris database, first used by Sir R.A. Fisher. The dataset is taken\n",
      "from Fisher's paper. Note that it's the same as in R, but not as in the UCI\n",
      "Machine Learning Repository, which has two wrong data points.\n",
      "\n",
      "This is perhaps the best known database to be found in the\n",
      "pattern recognition literature.  Fisher's paper is a classic in the field and\n",
      "is referenced frequently to this day.  (See Duda & Hart, for example.)  The\n",
      "data set contains 3 classes of 50 instances each, where each class refers to a\n",
      "type of iris plant.  One class is linearly separable from the other 2; the\n",
      "latter are NOT linearly separable from each other.\n",
      "\n",
      ".. topic:: References\n",
      "\n",
      "   - Fisher, R.A. \"The use of multiple measurements in taxonomic problems\"\n",
      "     Annual Eugenics, 7, Part II, 179-188 (1936); also in \"Contributions to\n",
      "     Mathematical Statistics\" (John Wiley, NY, 1950).\n",
      "   - Duda, R.O., & Hart, P.E. (1973) Pattern Classification and Scene Analysis.\n",
      "     (Q327.D83) John Wiley & Sons.  ISBN 0-471-22361-1.  See page 218.\n",
      "   - Dasarathy, B.V. (1980) \"Nosing Around the Neighborhood: A New System\n",
      "     Structure and Classification Rule for Recognition in Partially Exposed\n",
      "     Environments\".  IEEE Transactions on Pattern Analysis and Machine\n",
      "     Intelligence, Vol. PAMI-2, No. 1, 67-71.\n",
      "   - Gates, G.W. (1972) \"The Reduced Nearest Neighbor Rule\".  IEEE Transactions\n",
      "     on Information Theory, May 1972, 431-433.\n",
      "   - See also: 1988 MLC Proceedings, 54-64.  Cheeseman et al\"s AUTOCLASS II\n",
      "     conceptual clustering system finds 3 classes in the data.\n",
      "   - Many, many more ...\n"
     ]
    }
   ],
   "source": [
    "print(iris.DESCR)"
   ]
  },
  {
   "cell_type": "code",
   "execution_count": 10,
   "metadata": {
    "collapsed": true
   },
   "outputs": [
    {
     "data": {
      "text/plain": [
       "array([[5.1, 3.5, 1.4, 0.2],\n",
       "       [4.9, 3. , 1.4, 0.2],\n",
       "       [4.7, 3.2, 1.3, 0.2],\n",
       "       [4.6, 3.1, 1.5, 0.2],\n",
       "       [5. , 3.6, 1.4, 0.2],\n",
       "       [5.4, 3.9, 1.7, 0.4],\n",
       "       [4.6, 3.4, 1.4, 0.3],\n",
       "       [5. , 3.4, 1.5, 0.2],\n",
       "       [4.4, 2.9, 1.4, 0.2],\n",
       "       [4.9, 3.1, 1.5, 0.1],\n",
       "       [5.4, 3.7, 1.5, 0.2],\n",
       "       [4.8, 3.4, 1.6, 0.2],\n",
       "       [4.8, 3. , 1.4, 0.1],\n",
       "       [4.3, 3. , 1.1, 0.1],\n",
       "       [5.8, 4. , 1.2, 0.2],\n",
       "       [5.7, 4.4, 1.5, 0.4],\n",
       "       [5.4, 3.9, 1.3, 0.4],\n",
       "       [5.1, 3.5, 1.4, 0.3],\n",
       "       [5.7, 3.8, 1.7, 0.3],\n",
       "       [5.1, 3.8, 1.5, 0.3],\n",
       "       [5.4, 3.4, 1.7, 0.2],\n",
       "       [5.1, 3.7, 1.5, 0.4],\n",
       "       [4.6, 3.6, 1. , 0.2],\n",
       "       [5.1, 3.3, 1.7, 0.5],\n",
       "       [4.8, 3.4, 1.9, 0.2],\n",
       "       [5. , 3. , 1.6, 0.2],\n",
       "       [5. , 3.4, 1.6, 0.4],\n",
       "       [5.2, 3.5, 1.5, 0.2],\n",
       "       [5.2, 3.4, 1.4, 0.2],\n",
       "       [4.7, 3.2, 1.6, 0.2],\n",
       "       [4.8, 3.1, 1.6, 0.2],\n",
       "       [5.4, 3.4, 1.5, 0.4],\n",
       "       [5.2, 4.1, 1.5, 0.1],\n",
       "       [5.5, 4.2, 1.4, 0.2],\n",
       "       [4.9, 3.1, 1.5, 0.2],\n",
       "       [5. , 3.2, 1.2, 0.2],\n",
       "       [5.5, 3.5, 1.3, 0.2],\n",
       "       [4.9, 3.6, 1.4, 0.1],\n",
       "       [4.4, 3. , 1.3, 0.2],\n",
       "       [5.1, 3.4, 1.5, 0.2],\n",
       "       [5. , 3.5, 1.3, 0.3],\n",
       "       [4.5, 2.3, 1.3, 0.3],\n",
       "       [4.4, 3.2, 1.3, 0.2],\n",
       "       [5. , 3.5, 1.6, 0.6],\n",
       "       [5.1, 3.8, 1.9, 0.4],\n",
       "       [4.8, 3. , 1.4, 0.3],\n",
       "       [5.1, 3.8, 1.6, 0.2],\n",
       "       [4.6, 3.2, 1.4, 0.2],\n",
       "       [5.3, 3.7, 1.5, 0.2],\n",
       "       [5. , 3.3, 1.4, 0.2],\n",
       "       [7. , 3.2, 4.7, 1.4],\n",
       "       [6.4, 3.2, 4.5, 1.5],\n",
       "       [6.9, 3.1, 4.9, 1.5],\n",
       "       [5.5, 2.3, 4. , 1.3],\n",
       "       [6.5, 2.8, 4.6, 1.5],\n",
       "       [5.7, 2.8, 4.5, 1.3],\n",
       "       [6.3, 3.3, 4.7, 1.6],\n",
       "       [4.9, 2.4, 3.3, 1. ],\n",
       "       [6.6, 2.9, 4.6, 1.3],\n",
       "       [5.2, 2.7, 3.9, 1.4],\n",
       "       [5. , 2. , 3.5, 1. ],\n",
       "       [5.9, 3. , 4.2, 1.5],\n",
       "       [6. , 2.2, 4. , 1. ],\n",
       "       [6.1, 2.9, 4.7, 1.4],\n",
       "       [5.6, 2.9, 3.6, 1.3],\n",
       "       [6.7, 3.1, 4.4, 1.4],\n",
       "       [5.6, 3. , 4.5, 1.5],\n",
       "       [5.8, 2.7, 4.1, 1. ],\n",
       "       [6.2, 2.2, 4.5, 1.5],\n",
       "       [5.6, 2.5, 3.9, 1.1],\n",
       "       [5.9, 3.2, 4.8, 1.8],\n",
       "       [6.1, 2.8, 4. , 1.3],\n",
       "       [6.3, 2.5, 4.9, 1.5],\n",
       "       [6.1, 2.8, 4.7, 1.2],\n",
       "       [6.4, 2.9, 4.3, 1.3],\n",
       "       [6.6, 3. , 4.4, 1.4],\n",
       "       [6.8, 2.8, 4.8, 1.4],\n",
       "       [6.7, 3. , 5. , 1.7],\n",
       "       [6. , 2.9, 4.5, 1.5],\n",
       "       [5.7, 2.6, 3.5, 1. ],\n",
       "       [5.5, 2.4, 3.8, 1.1],\n",
       "       [5.5, 2.4, 3.7, 1. ],\n",
       "       [5.8, 2.7, 3.9, 1.2],\n",
       "       [6. , 2.7, 5.1, 1.6],\n",
       "       [5.4, 3. , 4.5, 1.5],\n",
       "       [6. , 3.4, 4.5, 1.6],\n",
       "       [6.7, 3.1, 4.7, 1.5],\n",
       "       [6.3, 2.3, 4.4, 1.3],\n",
       "       [5.6, 3. , 4.1, 1.3],\n",
       "       [5.5, 2.5, 4. , 1.3],\n",
       "       [5.5, 2.6, 4.4, 1.2],\n",
       "       [6.1, 3. , 4.6, 1.4],\n",
       "       [5.8, 2.6, 4. , 1.2],\n",
       "       [5. , 2.3, 3.3, 1. ],\n",
       "       [5.6, 2.7, 4.2, 1.3],\n",
       "       [5.7, 3. , 4.2, 1.2],\n",
       "       [5.7, 2.9, 4.2, 1.3],\n",
       "       [6.2, 2.9, 4.3, 1.3],\n",
       "       [5.1, 2.5, 3. , 1.1],\n",
       "       [5.7, 2.8, 4.1, 1.3],\n",
       "       [6.3, 3.3, 6. , 2.5],\n",
       "       [5.8, 2.7, 5.1, 1.9],\n",
       "       [7.1, 3. , 5.9, 2.1],\n",
       "       [6.3, 2.9, 5.6, 1.8],\n",
       "       [6.5, 3. , 5.8, 2.2],\n",
       "       [7.6, 3. , 6.6, 2.1],\n",
       "       [4.9, 2.5, 4.5, 1.7],\n",
       "       [7.3, 2.9, 6.3, 1.8],\n",
       "       [6.7, 2.5, 5.8, 1.8],\n",
       "       [7.2, 3.6, 6.1, 2.5],\n",
       "       [6.5, 3.2, 5.1, 2. ],\n",
       "       [6.4, 2.7, 5.3, 1.9],\n",
       "       [6.8, 3. , 5.5, 2.1],\n",
       "       [5.7, 2.5, 5. , 2. ],\n",
       "       [5.8, 2.8, 5.1, 2.4],\n",
       "       [6.4, 3.2, 5.3, 2.3],\n",
       "       [6.5, 3. , 5.5, 1.8],\n",
       "       [7.7, 3.8, 6.7, 2.2],\n",
       "       [7.7, 2.6, 6.9, 2.3],\n",
       "       [6. , 2.2, 5. , 1.5],\n",
       "       [6.9, 3.2, 5.7, 2.3],\n",
       "       [5.6, 2.8, 4.9, 2. ],\n",
       "       [7.7, 2.8, 6.7, 2. ],\n",
       "       [6.3, 2.7, 4.9, 1.8],\n",
       "       [6.7, 3.3, 5.7, 2.1],\n",
       "       [7.2, 3.2, 6. , 1.8],\n",
       "       [6.2, 2.8, 4.8, 1.8],\n",
       "       [6.1, 3. , 4.9, 1.8],\n",
       "       [6.4, 2.8, 5.6, 2.1],\n",
       "       [7.2, 3. , 5.8, 1.6],\n",
       "       [7.4, 2.8, 6.1, 1.9],\n",
       "       [7.9, 3.8, 6.4, 2. ],\n",
       "       [6.4, 2.8, 5.6, 2.2],\n",
       "       [6.3, 2.8, 5.1, 1.5],\n",
       "       [6.1, 2.6, 5.6, 1.4],\n",
       "       [7.7, 3. , 6.1, 2.3],\n",
       "       [6.3, 3.4, 5.6, 2.4],\n",
       "       [6.4, 3.1, 5.5, 1.8],\n",
       "       [6. , 3. , 4.8, 1.8],\n",
       "       [6.9, 3.1, 5.4, 2.1],\n",
       "       [6.7, 3.1, 5.6, 2.4],\n",
       "       [6.9, 3.1, 5.1, 2.3],\n",
       "       [5.8, 2.7, 5.1, 1.9],\n",
       "       [6.8, 3.2, 5.9, 2.3],\n",
       "       [6.7, 3.3, 5.7, 2.5],\n",
       "       [6.7, 3. , 5.2, 2.3],\n",
       "       [6.3, 2.5, 5. , 1.9],\n",
       "       [6.5, 3. , 5.2, 2. ],\n",
       "       [6.2, 3.4, 5.4, 2.3],\n",
       "       [5.9, 3. , 5.1, 1.8]])"
      ]
     },
     "execution_count": 10,
     "metadata": {},
     "output_type": "execute_result"
    }
   ],
   "source": [
    "X = iris.data\n",
    "X"
   ]
  },
  {
   "cell_type": "code",
   "execution_count": 11,
   "metadata": {},
   "outputs": [
    {
     "data": {
      "text/plain": [
       "array([0, 0, 0, 0, 0, 0, 0, 0, 0, 0, 0, 0, 0, 0, 0, 0, 0, 0, 0, 0, 0, 0,\n",
       "       0, 0, 0, 0, 0, 0, 0, 0, 0, 0, 0, 0, 0, 0, 0, 0, 0, 0, 0, 0, 0, 0,\n",
       "       0, 0, 0, 0, 0, 0, 1, 1, 1, 1, 1, 1, 1, 1, 1, 1, 1, 1, 1, 1, 1, 1,\n",
       "       1, 1, 1, 1, 1, 1, 1, 1, 1, 1, 1, 1, 1, 1, 1, 1, 1, 1, 1, 1, 1, 1,\n",
       "       1, 1, 1, 1, 1, 1, 1, 1, 1, 1, 1, 1, 2, 2, 2, 2, 2, 2, 2, 2, 2, 2,\n",
       "       2, 2, 2, 2, 2, 2, 2, 2, 2, 2, 2, 2, 2, 2, 2, 2, 2, 2, 2, 2, 2, 2,\n",
       "       2, 2, 2, 2, 2, 2, 2, 2, 2, 2, 2, 2, 2, 2, 2, 2, 2, 2])"
      ]
     },
     "execution_count": 11,
     "metadata": {},
     "output_type": "execute_result"
    }
   ],
   "source": [
    "y = iris.target\n",
    "y"
   ]
  },
  {
   "cell_type": "code",
   "execution_count": 12,
   "metadata": {},
   "outputs": [],
   "source": [
    "from keras.utils import to_categorical"
   ]
  },
  {
   "cell_type": "code",
   "execution_count": 13,
   "metadata": {},
   "outputs": [],
   "source": [
    "y = to_categorical(y)"
   ]
  },
  {
   "cell_type": "code",
   "execution_count": 15,
   "metadata": {},
   "outputs": [
    {
     "data": {
      "text/plain": [
       "(150, 3)"
      ]
     },
     "execution_count": 15,
     "metadata": {},
     "output_type": "execute_result"
    }
   ],
   "source": [
    "y.shape"
   ]
  },
  {
   "cell_type": "code",
   "execution_count": 16,
   "metadata": {},
   "outputs": [],
   "source": [
    "from sklearn.model_selection import train_test_split"
   ]
  },
  {
   "cell_type": "code",
   "execution_count": 17,
   "metadata": {},
   "outputs": [],
   "source": [
    "X_train, X_test, y_train, y_test = train_test_split(X, y, test_size=0.33, random_state=42)"
   ]
  },
  {
   "cell_type": "code",
   "execution_count": 20,
   "metadata": {
    "scrolled": true
   },
   "outputs": [
    {
     "data": {
      "text/plain": [
       "array([[0., 1., 0.],\n",
       "       [1., 0., 0.],\n",
       "       [0., 0., 1.],\n",
       "       [0., 1., 0.],\n",
       "       [0., 1., 0.],\n",
       "       [1., 0., 0.],\n",
       "       [0., 1., 0.],\n",
       "       [0., 0., 1.],\n",
       "       [0., 1., 0.],\n",
       "       [0., 1., 0.],\n",
       "       [0., 0., 1.],\n",
       "       [1., 0., 0.],\n",
       "       [1., 0., 0.],\n",
       "       [1., 0., 0.],\n",
       "       [1., 0., 0.],\n",
       "       [0., 1., 0.],\n",
       "       [0., 0., 1.],\n",
       "       [0., 1., 0.],\n",
       "       [0., 1., 0.],\n",
       "       [0., 0., 1.],\n",
       "       [1., 0., 0.],\n",
       "       [0., 0., 1.],\n",
       "       [1., 0., 0.],\n",
       "       [0., 0., 1.],\n",
       "       [0., 0., 1.],\n",
       "       [0., 0., 1.],\n",
       "       [0., 0., 1.],\n",
       "       [0., 0., 1.],\n",
       "       [1., 0., 0.],\n",
       "       [1., 0., 0.],\n",
       "       [1., 0., 0.],\n",
       "       [1., 0., 0.],\n",
       "       [0., 1., 0.],\n",
       "       [1., 0., 0.],\n",
       "       [1., 0., 0.],\n",
       "       [0., 0., 1.],\n",
       "       [0., 1., 0.],\n",
       "       [1., 0., 0.],\n",
       "       [1., 0., 0.],\n",
       "       [1., 0., 0.],\n",
       "       [0., 0., 1.],\n",
       "       [0., 1., 0.],\n",
       "       [0., 1., 0.],\n",
       "       [1., 0., 0.],\n",
       "       [1., 0., 0.],\n",
       "       [0., 1., 0.],\n",
       "       [0., 0., 1.],\n",
       "       [0., 0., 1.],\n",
       "       [0., 1., 0.],\n",
       "       [0., 0., 1.]], dtype=float32)"
      ]
     },
     "execution_count": 20,
     "metadata": {},
     "output_type": "execute_result"
    }
   ],
   "source": [
    "y_test"
   ]
  },
  {
   "cell_type": "code",
   "execution_count": 21,
   "metadata": {},
   "outputs": [],
   "source": [
    "from sklearn.preprocessing import MinMaxScaler"
   ]
  },
  {
   "cell_type": "code",
   "execution_count": 22,
   "metadata": {},
   "outputs": [],
   "source": [
    "scaler_object = MinMaxScaler()"
   ]
  },
  {
   "cell_type": "code",
   "execution_count": 23,
   "metadata": {},
   "outputs": [
    {
     "data": {
      "text/plain": [
       "MinMaxScaler(copy=True, feature_range=(0, 1))"
      ]
     },
     "execution_count": 23,
     "metadata": {},
     "output_type": "execute_result"
    }
   ],
   "source": [
    "scaler_object.fit(X_train)"
   ]
  },
  {
   "cell_type": "code",
   "execution_count": 25,
   "metadata": {},
   "outputs": [],
   "source": [
    "scaled_X_train = scaler_object.transform(X_train)"
   ]
  },
  {
   "cell_type": "code",
   "execution_count": 26,
   "metadata": {},
   "outputs": [],
   "source": [
    "scaled_X_test = scaler_object.transform(X_test)"
   ]
  },
  {
   "cell_type": "code",
   "execution_count": 27,
   "metadata": {},
   "outputs": [],
   "source": [
    "from keras.models import Sequential\n",
    "from keras.layers import Dense"
   ]
  },
  {
   "cell_type": "code",
   "execution_count": 29,
   "metadata": {},
   "outputs": [],
   "source": [
    "model = Sequential()\n",
    "model.add(Dense(8, input_dim=4, activation='relu'))\n",
    "model.add(Dense(8, input_dim=4, activation='relu'))\n",
    "model.add(Dense(3, activation='softmax'))\n",
    "model.compile(loss='categorical_crossentropy', optimizer='adam',metrics=['accuracy'])"
   ]
  },
  {
   "cell_type": "code",
   "execution_count": 30,
   "metadata": {},
   "outputs": [
    {
     "name": "stdout",
     "output_type": "stream",
     "text": [
      "_________________________________________________________________\n",
      "Layer (type)                 Output Shape              Param #   \n",
      "=================================================================\n",
      "dense_4 (Dense)              (None, 8)                 40        \n",
      "_________________________________________________________________\n",
      "dense_5 (Dense)              (None, 8)                 72        \n",
      "_________________________________________________________________\n",
      "dense_6 (Dense)              (None, 3)                 27        \n",
      "=================================================================\n",
      "Total params: 139\n",
      "Trainable params: 139\n",
      "Non-trainable params: 0\n",
      "_________________________________________________________________\n"
     ]
    }
   ],
   "source": [
    "model.summary()"
   ]
  },
  {
   "cell_type": "code",
   "execution_count": 31,
   "metadata": {},
   "outputs": [
    {
     "name": "stdout",
     "output_type": "stream",
     "text": [
      "WARNING:tensorflow:From C:\\Users\\manth\\Anaconda3\\envs\\nlp_course\\lib\\site-packages\\tensorflow\\python\\ops\\math_ops.py:3066: to_int32 (from tensorflow.python.ops.math_ops) is deprecated and will be removed in a future version.\n",
      "Instructions for updating:\n",
      "Use tf.cast instead.\n",
      "Epoch 1/150\n",
      " - 1s - loss: 1.1229 - acc: 0.3200\n",
      "Epoch 2/150\n",
      " - 0s - loss: 1.1158 - acc: 0.3400\n",
      "Epoch 3/150\n",
      " - 0s - loss: 1.1108 - acc: 0.3600\n",
      "Epoch 4/150\n",
      " - 0s - loss: 1.1060 - acc: 0.4000\n",
      "Epoch 5/150\n",
      " - 0s - loss: 1.1014 - acc: 0.4200\n",
      "Epoch 6/150\n",
      " - 0s - loss: 1.0966 - acc: 0.4400\n",
      "Epoch 7/150\n",
      " - 0s - loss: 1.0924 - acc: 0.4600\n",
      "Epoch 8/150\n",
      " - 0s - loss: 1.0879 - acc: 0.4900\n",
      "Epoch 9/150\n",
      " - 0s - loss: 1.0821 - acc: 0.5300\n",
      "Epoch 10/150\n",
      " - 0s - loss: 1.0762 - acc: 0.5500\n",
      "Epoch 11/150\n",
      " - 0s - loss: 1.0701 - acc: 0.6000\n",
      "Epoch 12/150\n",
      " - 0s - loss: 1.0642 - acc: 0.6200\n",
      "Epoch 13/150\n",
      " - 0s - loss: 1.0579 - acc: 0.6300\n",
      "Epoch 14/150\n",
      " - 0s - loss: 1.0516 - acc: 0.6500\n",
      "Epoch 15/150\n",
      " - 0s - loss: 1.0456 - acc: 0.6500\n",
      "Epoch 16/150\n",
      " - 0s - loss: 1.0396 - acc: 0.6500\n",
      "Epoch 17/150\n",
      " - 0s - loss: 1.0333 - acc: 0.6500\n",
      "Epoch 18/150\n",
      " - 0s - loss: 1.0272 - acc: 0.6500\n",
      "Epoch 19/150\n",
      " - 0s - loss: 1.0217 - acc: 0.6500\n",
      "Epoch 20/150\n",
      " - 0s - loss: 1.0165 - acc: 0.6500\n",
      "Epoch 21/150\n",
      " - 0s - loss: 1.0112 - acc: 0.6500\n",
      "Epoch 22/150\n",
      " - 0s - loss: 1.0062 - acc: 0.6500\n",
      "Epoch 23/150\n",
      " - 0s - loss: 1.0007 - acc: 0.6500\n",
      "Epoch 24/150\n",
      " - 0s - loss: 0.9953 - acc: 0.6500\n",
      "Epoch 25/150\n",
      " - 0s - loss: 0.9894 - acc: 0.6500\n",
      "Epoch 26/150\n",
      " - 0s - loss: 0.9833 - acc: 0.6500\n",
      "Epoch 27/150\n",
      " - 0s - loss: 0.9771 - acc: 0.6500\n",
      "Epoch 28/150\n",
      " - 0s - loss: 0.9703 - acc: 0.6500\n",
      "Epoch 29/150\n",
      " - 0s - loss: 0.9630 - acc: 0.6500\n",
      "Epoch 30/150\n",
      " - 0s - loss: 0.9557 - acc: 0.6500\n",
      "Epoch 31/150\n",
      " - 0s - loss: 0.9481 - acc: 0.6500\n",
      "Epoch 32/150\n",
      " - 0s - loss: 0.9400 - acc: 0.6500\n",
      "Epoch 33/150\n",
      " - 0s - loss: 0.9322 - acc: 0.6500\n",
      "Epoch 34/150\n",
      " - 0s - loss: 0.9231 - acc: 0.6500\n",
      "Epoch 35/150\n",
      " - 0s - loss: 0.9146 - acc: 0.6500\n",
      "Epoch 36/150\n",
      " - 0s - loss: 0.9053 - acc: 0.6500\n",
      "Epoch 37/150\n",
      " - 0s - loss: 0.8963 - acc: 0.6500\n",
      "Epoch 38/150\n",
      " - 0s - loss: 0.8874 - acc: 0.6500\n",
      "Epoch 39/150\n",
      " - 0s - loss: 0.8782 - acc: 0.6500\n",
      "Epoch 40/150\n",
      " - 0s - loss: 0.8698 - acc: 0.6600\n",
      "Epoch 41/150\n",
      " - 0s - loss: 0.8615 - acc: 0.6600\n",
      "Epoch 42/150\n",
      " - 0s - loss: 0.8531 - acc: 0.6600\n",
      "Epoch 43/150\n",
      " - 0s - loss: 0.8444 - acc: 0.6600\n",
      "Epoch 44/150\n",
      " - 0s - loss: 0.8355 - acc: 0.6600\n",
      "Epoch 45/150\n",
      " - 0s - loss: 0.8268 - acc: 0.6600\n",
      "Epoch 46/150\n",
      " - 0s - loss: 0.8179 - acc: 0.6600\n",
      "Epoch 47/150\n",
      " - 0s - loss: 0.8090 - acc: 0.6600\n",
      "Epoch 48/150\n",
      " - 0s - loss: 0.7998 - acc: 0.6600\n",
      "Epoch 49/150\n",
      " - 0s - loss: 0.7906 - acc: 0.6600\n",
      "Epoch 50/150\n",
      " - 0s - loss: 0.7812 - acc: 0.6600\n",
      "Epoch 51/150\n",
      " - 0s - loss: 0.7720 - acc: 0.6600\n",
      "Epoch 52/150\n",
      " - 0s - loss: 0.7619 - acc: 0.6600\n",
      "Epoch 53/150\n",
      " - 0s - loss: 0.7521 - acc: 0.6600\n",
      "Epoch 54/150\n",
      " - 0s - loss: 0.7426 - acc: 0.6600\n",
      "Epoch 55/150\n",
      " - 0s - loss: 0.7333 - acc: 0.6600\n",
      "Epoch 56/150\n",
      " - 0s - loss: 0.7240 - acc: 0.6600\n",
      "Epoch 57/150\n",
      " - 0s - loss: 0.7147 - acc: 0.6600\n",
      "Epoch 58/150\n",
      " - 0s - loss: 0.7056 - acc: 0.6600\n",
      "Epoch 59/150\n",
      " - 0s - loss: 0.6967 - acc: 0.6600\n",
      "Epoch 60/150\n",
      " - 0s - loss: 0.6880 - acc: 0.6600\n",
      "Epoch 61/150\n",
      " - 0s - loss: 0.6801 - acc: 0.6600\n",
      "Epoch 62/150\n",
      " - 0s - loss: 0.6723 - acc: 0.6600\n",
      "Epoch 63/150\n",
      " - 0s - loss: 0.6644 - acc: 0.6600\n",
      "Epoch 64/150\n",
      " - 0s - loss: 0.6571 - acc: 0.6600\n",
      "Epoch 65/150\n",
      " - 0s - loss: 0.6488 - acc: 0.6600\n",
      "Epoch 66/150\n",
      " - 0s - loss: 0.6406 - acc: 0.6600\n",
      "Epoch 67/150\n",
      " - 0s - loss: 0.6320 - acc: 0.6600\n",
      "Epoch 68/150\n",
      " - 0s - loss: 0.6238 - acc: 0.6600\n",
      "Epoch 69/150\n",
      " - 0s - loss: 0.6174 - acc: 0.6600\n",
      "Epoch 70/150\n",
      " - 0s - loss: 0.6104 - acc: 0.6600\n",
      "Epoch 71/150\n",
      " - 0s - loss: 0.6034 - acc: 0.6600\n",
      "Epoch 72/150\n",
      " - 0s - loss: 0.5971 - acc: 0.6600\n",
      "Epoch 73/150\n",
      " - 0s - loss: 0.5907 - acc: 0.6800\n",
      "Epoch 74/150\n",
      " - 0s - loss: 0.5845 - acc: 0.6900\n",
      "Epoch 75/150\n",
      " - 0s - loss: 0.5789 - acc: 0.6900\n",
      "Epoch 76/150\n",
      " - 0s - loss: 0.5734 - acc: 0.7000\n",
      "Epoch 77/150\n",
      " - 0s - loss: 0.5679 - acc: 0.7400\n",
      "Epoch 78/150\n",
      " - 0s - loss: 0.5617 - acc: 0.7800\n",
      "Epoch 79/150\n",
      " - 0s - loss: 0.5566 - acc: 0.8900\n",
      "Epoch 80/150\n",
      " - 0s - loss: 0.5517 - acc: 0.9500\n",
      "Epoch 81/150\n",
      " - 0s - loss: 0.5468 - acc: 0.9500\n",
      "Epoch 82/150\n",
      " - 0s - loss: 0.5420 - acc: 0.9600\n",
      "Epoch 83/150\n",
      " - 0s - loss: 0.5373 - acc: 0.9600\n",
      "Epoch 84/150\n",
      " - 0s - loss: 0.5327 - acc: 0.9600\n",
      "Epoch 85/150\n",
      " - 0s - loss: 0.5281 - acc: 0.9700\n",
      "Epoch 86/150\n",
      " - 0s - loss: 0.5238 - acc: 0.9500\n",
      "Epoch 87/150\n",
      " - 0s - loss: 0.5199 - acc: 0.9200\n",
      "Epoch 88/150\n",
      " - 0s - loss: 0.5156 - acc: 0.9200\n",
      "Epoch 89/150\n",
      " - 0s - loss: 0.5114 - acc: 0.9200\n",
      "Epoch 90/150\n",
      " - 0s - loss: 0.5075 - acc: 0.9200\n",
      "Epoch 91/150\n",
      " - 0s - loss: 0.5040 - acc: 0.9000\n",
      "Epoch 92/150\n",
      " - 0s - loss: 0.4999 - acc: 0.8900\n",
      "Epoch 93/150\n",
      " - 0s - loss: 0.4960 - acc: 0.9000\n",
      "Epoch 94/150\n",
      " - 0s - loss: 0.4927 - acc: 0.9100\n",
      "Epoch 95/150\n",
      " - 0s - loss: 0.4890 - acc: 0.9100\n",
      "Epoch 96/150\n",
      " - 0s - loss: 0.4855 - acc: 0.9000\n",
      "Epoch 97/150\n",
      " - 0s - loss: 0.4821 - acc: 0.8700\n",
      "Epoch 98/150\n",
      " - 0s - loss: 0.4788 - acc: 0.8800\n",
      "Epoch 99/150\n",
      " - 0s - loss: 0.4752 - acc: 0.8600\n",
      "Epoch 100/150\n",
      " - 0s - loss: 0.4724 - acc: 0.8300\n",
      "Epoch 101/150\n",
      " - 0s - loss: 0.4696 - acc: 0.7900\n",
      "Epoch 102/150\n",
      " - 0s - loss: 0.4661 - acc: 0.8400\n",
      "Epoch 103/150\n",
      " - 0s - loss: 0.4625 - acc: 0.8500\n",
      "Epoch 104/150\n",
      " - 0s - loss: 0.4590 - acc: 0.8700\n",
      "Epoch 105/150\n",
      " - 0s - loss: 0.4558 - acc: 0.8800\n",
      "Epoch 106/150\n",
      " - 0s - loss: 0.4526 - acc: 0.8900\n",
      "Epoch 107/150\n",
      " - 0s - loss: 0.4495 - acc: 0.9000\n",
      "Epoch 108/150\n",
      " - 0s - loss: 0.4464 - acc: 0.9300\n",
      "Epoch 109/150\n",
      " - 0s - loss: 0.4432 - acc: 0.9300\n",
      "Epoch 110/150\n",
      " - 0s - loss: 0.4401 - acc: 0.9300\n",
      "Epoch 111/150\n",
      " - 0s - loss: 0.4371 - acc: 0.9300\n",
      "Epoch 112/150\n",
      " - 0s - loss: 0.4344 - acc: 0.9200\n",
      "Epoch 113/150\n",
      " - 0s - loss: 0.4316 - acc: 0.9200\n",
      "Epoch 114/150\n",
      " - 0s - loss: 0.4284 - acc: 0.9300\n",
      "Epoch 115/150\n",
      " - 0s - loss: 0.4256 - acc: 0.9300\n",
      "Epoch 116/150\n",
      " - 0s - loss: 0.4227 - acc: 0.9300\n",
      "Epoch 117/150\n",
      " - 0s - loss: 0.4201 - acc: 0.9300\n",
      "Epoch 118/150\n",
      " - 0s - loss: 0.4173 - acc: 0.9300\n",
      "Epoch 119/150\n",
      " - 0s - loss: 0.4148 - acc: 0.9500\n",
      "Epoch 120/150\n",
      " - 0s - loss: 0.4121 - acc: 0.9500\n",
      "Epoch 121/150\n",
      " - 0s - loss: 0.4096 - acc: 0.9300\n",
      "Epoch 122/150\n",
      " - 0s - loss: 0.4078 - acc: 0.9200\n",
      "Epoch 123/150\n",
      " - 0s - loss: 0.4060 - acc: 0.9100\n",
      "Epoch 124/150\n",
      " - 0s - loss: 0.4039 - acc: 0.8900\n",
      "Epoch 125/150\n",
      " - 0s - loss: 0.4011 - acc: 0.9100\n",
      "Epoch 126/150\n",
      " - 0s - loss: 0.3970 - acc: 0.9200\n",
      "Epoch 127/150\n",
      " - 0s - loss: 0.3940 - acc: 0.9400\n",
      "Epoch 128/150\n",
      " - 0s - loss: 0.3926 - acc: 0.9500\n",
      "Epoch 129/150\n",
      " - 0s - loss: 0.3897 - acc: 0.9600\n",
      "Epoch 130/150\n",
      " - 0s - loss: 0.3861 - acc: 0.9500\n",
      "Epoch 131/150\n",
      " - 0s - loss: 0.3842 - acc: 0.9400\n",
      "Epoch 132/150\n",
      " - 0s - loss: 0.3822 - acc: 0.9300\n",
      "Epoch 133/150\n",
      " - 0s - loss: 0.3798 - acc: 0.9300\n",
      "Epoch 134/150\n",
      " - 0s - loss: 0.3771 - acc: 0.9300\n",
      "Epoch 135/150\n",
      " - 0s - loss: 0.3744 - acc: 0.9400\n",
      "Epoch 136/150\n",
      " - 0s - loss: 0.3718 - acc: 0.9400\n",
      "Epoch 137/150\n",
      " - 0s - loss: 0.3712 - acc: 0.9400\n",
      "Epoch 138/150\n",
      " - 0s - loss: 0.3677 - acc: 0.9400\n",
      "Epoch 139/150\n",
      " - 0s - loss: 0.3651 - acc: 0.9500\n",
      "Epoch 140/150\n",
      " - 0s - loss: 0.3620 - acc: 0.9500\n",
      "Epoch 141/150\n",
      " - 0s - loss: 0.3597 - acc: 0.9500\n",
      "Epoch 142/150\n",
      " - 0s - loss: 0.3573 - acc: 0.9500\n",
      "Epoch 143/150\n",
      " - 0s - loss: 0.3550 - acc: 0.9500\n",
      "Epoch 144/150\n",
      " - 0s - loss: 0.3528 - acc: 0.9500\n",
      "Epoch 145/150\n",
      " - 0s - loss: 0.3504 - acc: 0.9500\n",
      "Epoch 146/150\n",
      " - 0s - loss: 0.3481 - acc: 0.9500\n",
      "Epoch 147/150\n",
      " - 0s - loss: 0.3462 - acc: 0.9500\n",
      "Epoch 148/150\n",
      " - 0s - loss: 0.3445 - acc: 0.9500\n",
      "Epoch 149/150\n",
      " - 0s - loss: 0.3423 - acc: 0.9500\n",
      "Epoch 150/150\n",
      " - 0s - loss: 0.3402 - acc: 0.9500\n"
     ]
    },
    {
     "data": {
      "text/plain": [
       "<keras.callbacks.History at 0x29cc288d7b8>"
      ]
     },
     "execution_count": 31,
     "metadata": {},
     "output_type": "execute_result"
    }
   ],
   "source": [
    "model.fit(scaled_X_train, y_train, epochs=150,verbose=2)"
   ]
  },
  {
   "cell_type": "code",
   "execution_count": 33,
   "metadata": {},
   "outputs": [],
   "source": [
    "prediction = model.predict_classes(scaled_X_test)"
   ]
  },
  {
   "cell_type": "code",
   "execution_count": 35,
   "metadata": {},
   "outputs": [
    {
     "data": {
      "text/plain": [
       "array([1, 0, 2, 1, 1, 0, 1, 2, 1, 1, 2, 0, 0, 0, 0, 1, 2, 1, 1, 2, 0, 2,\n",
       "       0, 2, 2, 2, 2, 2, 0, 0, 0, 0, 1, 0, 0, 2, 1, 0, 0, 0, 2, 1, 1, 0,\n",
       "       0, 1, 2, 2, 1, 2], dtype=int64)"
      ]
     },
     "execution_count": 35,
     "metadata": {},
     "output_type": "execute_result"
    }
   ],
   "source": [
    "y_test.argmax(axis=1)"
   ]
  },
  {
   "cell_type": "code",
   "execution_count": 36,
   "metadata": {},
   "outputs": [],
   "source": [
    "from sklearn.metrics import classification_report, accuracy_score, confusion_matrix"
   ]
  },
  {
   "cell_type": "code",
   "execution_count": 39,
   "metadata": {},
   "outputs": [
    {
     "name": "stdout",
     "output_type": "stream",
     "text": [
      "[[19  0  0]\n",
      " [ 0 13  2]\n",
      " [ 0  0 16]]\n",
      "\n",
      "\n",
      "\n",
      "              precision    recall  f1-score   support\n",
      "\n",
      "           0       1.00      1.00      1.00        19\n",
      "           1       1.00      0.87      0.93        15\n",
      "           2       0.89      1.00      0.94        16\n",
      "\n",
      "    accuracy                           0.96        50\n",
      "   macro avg       0.96      0.96      0.96        50\n",
      "weighted avg       0.96      0.96      0.96        50\n",
      "\n",
      "\n",
      "\n",
      "\n",
      "0.96\n"
     ]
    }
   ],
   "source": [
    "print(confusion_matrix(y_test.argmax(axis=1), prediction))\n",
    "print(\"\\n\\n\")\n",
    "print(classification_report(y_test.argmax(axis=1), prediction))\n",
    "print('\\n\\n')\n",
    "print(accuracy_score(y_test.argmax(axis=1), prediction))"
   ]
  },
  {
   "cell_type": "code",
   "execution_count": null,
   "metadata": {},
   "outputs": [],
   "source": []
  }
 ],
 "metadata": {
  "kernelspec": {
   "display_name": "Python 3",
   "language": "python",
   "name": "python3"
  },
  "language_info": {
   "codemirror_mode": {
    "name": "ipython",
    "version": 3
   },
   "file_extension": ".py",
   "mimetype": "text/x-python",
   "name": "python",
   "nbconvert_exporter": "python",
   "pygments_lexer": "ipython3",
   "version": "3.7.3"
  }
 },
 "nbformat": 4,
 "nbformat_minor": 2
}
